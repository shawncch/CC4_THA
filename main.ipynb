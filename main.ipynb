{
 "cells": [
  {
   "cell_type": "code",
   "execution_count": 204,
   "metadata": {},
   "outputs": [],
   "source": [
    "import pandas as pd\n",
    "import json\n",
    "import requests\n",
    "\n",
    "url = \"https://raw.githubusercontent.com/Papagoat/brain-assessment/main/restaurant_data.json\"  # Replace with your actual JSON URL\n",
    "response = requests.get(url)\n",
    "with open('restaurant_data.json', 'w') as json_file:  \n",
    "    json.dump(response.json(), json_file, indent=4) \n"
   ]
  },
  {
   "cell_type": "code",
   "execution_count": 92,
   "metadata": {},
   "outputs": [],
   "source": [
    "def preprocess_country_codes():\n",
    "    country_code_df = pd.read_excel('Country-Code.xlsx', sheet_name='Sheet1')\n",
    "    return country_code_df\n"
   ]
  },
  {
   "cell_type": "code",
   "execution_count": 165,
   "metadata": {},
   "outputs": [],
   "source": [
    "def append_restaurant_details(restaurant, restaurant_ids, restaurant_names, restaurant_countrycodes, restaurant_cities, restaurant_votes, restaurant_user_ratings, restaurant_cuisines):\n",
    "    restaurant_ids.append(restaurant.get(\"R\").get(\"res_id\"))\n",
    "    restaurant_names.append(restaurant.get(\"name\"))\n",
    "    restaurant_countrycodes.append(restaurant.get(\"location\").get(\"country_id\"))\n",
    "    restaurant_cities.append(restaurant.get(\"location\").get(\"city\"))\n",
    "    restaurant_votes.append(restaurant.get(\"user_rating\").get(\"votes\"))\n",
    "    restaurant_user_ratings.append(restaurant.get(\"user_rating\").get(\"aggregate_rating\"))\n",
    "    restaurant_cuisines.append(restaurant.get(\"cuisines\"))"
   ]
  },
  {
   "cell_type": "code",
   "execution_count": 161,
   "metadata": {},
   "outputs": [],
   "source": [
    "def preprocess_restaurant_data():\n",
    "    with open(\"restaurant_data.json\") as res:\n",
    "        data = json.load(res)\n",
    "\n",
    "    restaurant_ids = []\n",
    "    restaurant_names = []\n",
    "    restaurant_countrycodes = []\n",
    "    restaurant_cities = []\n",
    "    restaurant_votes = []\n",
    "    restaurant_user_ratings = []   \n",
    "    restaurant_cuisines = []\n",
    "    restaurant_eventids = []\n",
    "    restaurant_photourls = []\n",
    "    restaurant_eventtitles = []\n",
    "    restaurant_eventstartdates = []\n",
    "    restaurant_eventenddates = []\n",
    "\n",
    "    for result in data:\n",
    "        for r in result[\"restaurants\"]:\n",
    "            restaurant = r[\"restaurant\"]\n",
    "\n",
    "            append_restaurant_details(restaurant, restaurant_ids, restaurant_names, restaurant_countrycodes, restaurant_cities, restaurant_votes, restaurant_user_ratings, restaurant_cuisines)\n",
    "\n",
    "            event_results = restaurant.get(\"zomato_events\", \"NA\")\n",
    "\n",
    "            if event_results == \"NA\" :\n",
    "                [lst.append(\"NA\") for lst in [restaurant_eventids, restaurant_photourls, restaurant_eventstartdates, restaurant_eventenddates, restaurant_eventtitles]]\n",
    "            \n",
    "            else:\n",
    "                for i, e in enumerate(event_results):\n",
    "                    if i != 0:\n",
    "                        append_restaurant_details(restaurant, restaurant_ids, restaurant_names, restaurant_countrycodes, restaurant_cities, restaurant_votes, restaurant_user_ratings, restaurant_cuisines)\n",
    "                    event = e.get(\"event\")\n",
    "                    restaurant_eventids.append(event.get(\"event_id\", \"NA\"))\n",
    "                    if \"photos\" in event and len(event.get(\"photos\")) != 0:\n",
    "                            restaurant_photourls.append(event.get(\"photos\")[0].get(\"photo\").get(\"url\", \"NA\"))\n",
    "                    else:\n",
    "                        restaurant_photourls.append(\"NA\")\n",
    "                    restaurant_eventstartdates.append(event.get(\"start_date\", \"NA\"))\n",
    "                    restaurant_eventenddates.append(event.get(\"end_date\", \"NA\"))\n",
    "                    restaurant_eventtitles.append(event.get(\"title\", \"NA\"))\n",
    "\n",
    "    data = {\"Restaurant Id\" : restaurant_ids, \n",
    "            \"Restaurant Name\" : restaurant_names, \n",
    "            \"Country Code\" : restaurant_countrycodes,\n",
    "            \"City\" : restaurant_cities,\n",
    "            \"User Rating Votes\" : restaurant_votes,\n",
    "            \"User Aggregate Rating\" : restaurant_user_ratings,\n",
    "            \"Cuisines\" : restaurant_cuisines,\n",
    "            \"Event Id\" : restaurant_eventids,\n",
    "            \"Photo URL\" : restaurant_photourls,\n",
    "            \"Event Title\" : restaurant_eventtitles,\n",
    "            \"Event Start Date\" : restaurant_eventstartdates,\n",
    "            \"Event End Date\" : restaurant_eventenddates\n",
    "    }\n",
    "\n",
    "    df = pd.DataFrame(data)\n",
    "    return df\n",
    "\n",
    "\n",
    "\n"
   ]
  },
  {
   "cell_type": "code",
   "execution_count": 162,
   "metadata": {},
   "outputs": [],
   "source": [
    "def output_restaurant_data(restaurant_data_df, country_code_df):\n",
    "    merged_df = restaurant_data_df.merge(country_code_df, on = \"Country Code\", how = \"left\")\n",
    "    merged_df = merged_df.drop(columns=[\"Country Code\"])\n",
    "    merged_df = merged_df[[\"Restaurant Id\", \"Restaurant Name\", \"Country\", \"City\", \"User Rating Votes\", \"User Aggregate Rating\", \"Cuisines\"]]\n",
    "    merged_df.to_csv(\"restaurant_data.csv\", index = False)"
   ]
  },
  {
   "cell_type": "code",
   "execution_count": 206,
   "metadata": {},
   "outputs": [],
   "source": [
    "def output_restaurant_events(restaurant_data_df):\n",
    "    filtered_df = restaurant_data_df[restaurant_data_df[\"Event Start Date\"] != \"NA\"]\n",
    "    filtered_df[\"converted_eventstartdt\"] = pd.to_datetime(filtered_df[\"Event Start Date\"])\n",
    "    filtered_df1 = filtered_df.loc[lambda x : (x[\"converted_eventstartdt\"].dt.year == 2019) & (x[\"converted_eventstartdt\"].dt.month == 4)]\n",
    "    filtered_df2 = filtered_df1[[\"Event Id\", \"Restaurant Id\", \"Restaurant Name\", \"Photo URL\", \"Event Title\", \"Event Start Date\", \"Event End Date\"]]\n",
    "    filtered_df2.to_csv(\"restaurant_events.csv\", index = False)"
   ]
  },
  {
   "cell_type": "code",
   "execution_count": 207,
   "metadata": {},
   "outputs": [
    {
     "name": "stderr",
     "output_type": "stream",
     "text": [
      "/var/folders/1f/s28t3bkj1978dtt71g0gbvqw0000gn/T/ipykernel_24925/3878880548.py:3: SettingWithCopyWarning: \n",
      "A value is trying to be set on a copy of a slice from a DataFrame.\n",
      "Try using .loc[row_indexer,col_indexer] = value instead\n",
      "\n",
      "See the caveats in the documentation: https://pandas.pydata.org/pandas-docs/stable/user_guide/indexing.html#returning-a-view-versus-a-copy\n",
      "  filtered_df[\"converted_eventstartdt\"] = pd.to_datetime(filtered_df[\"Event Start Date\"])\n"
     ]
    }
   ],
   "source": [
    "if __name__ == \"__main__\":\n",
    "    restaurant_data_df = preprocess_restaurant_data()\n",
    "    country_code_df = preprocess_country_codes()\n",
    "    output_restaurant_data(restaurant_data_df, country_code_df)\n",
    "    output_restaurant_events(restaurant_data_df)"
   ]
  },
  {
   "cell_type": "code",
   "execution_count": null,
   "metadata": {},
   "outputs": [],
   "source": []
  },
  {
   "cell_type": "code",
   "execution_count": null,
   "metadata": {},
   "outputs": [],
   "source": []
  }
 ],
 "metadata": {
  "kernelspec": {
   "display_name": "Python 3",
   "language": "python",
   "name": "python3"
  },
  "language_info": {
   "codemirror_mode": {
    "name": "ipython",
    "version": 3
   },
   "file_extension": ".py",
   "mimetype": "text/x-python",
   "name": "python",
   "nbconvert_exporter": "python",
   "pygments_lexer": "ipython3",
   "version": "3.12.4"
  }
 },
 "nbformat": 4,
 "nbformat_minor": 2
}
