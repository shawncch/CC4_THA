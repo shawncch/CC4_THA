{
 "cells": [
  {
   "cell_type": "code",
   "execution_count": 239,
   "metadata": {},
   "outputs": [],
   "source": [
    "import pandas as pd\n",
    "import json\n",
    "import requests\n",
    "\n",
    "url = \"https://raw.githubusercontent.com/Papagoat/brain-assessment/main/restaurant_data.json\"\n",
    "response = requests.get(url)\n",
    "with open('restaurant_data.json', 'w') as json_file:  \n",
    "    json.dump(response.json(), json_file, indent=4) \n"
   ]
  },
  {
   "cell_type": "code",
   "execution_count": 240,
   "metadata": {},
   "outputs": [],
   "source": [
    "def preprocess_country_codes():\n",
    "    country_code_df = pd.read_excel('Country-Code.xlsx', sheet_name='Sheet1')\n",
    "    return country_code_df\n"
   ]
  },
  {
   "cell_type": "code",
   "execution_count": 241,
   "metadata": {},
   "outputs": [],
   "source": [
    "def append_restaurant_details(restaurant, restaurant_ids, restaurant_names, restaurant_countrycodes, restaurant_cities, restaurant_votes, restaurant_user_ratings, restaurant_user_ratings_text, restaurant_cuisines):\n",
    "    restaurant_ids.append(restaurant.get(\"R\").get(\"res_id\"))\n",
    "    restaurant_names.append(restaurant.get(\"name\"))\n",
    "    restaurant_countrycodes.append(restaurant.get(\"location\").get(\"country_id\"))\n",
    "    restaurant_cities.append(restaurant.get(\"location\").get(\"city\"))\n",
    "    restaurant_votes.append(restaurant.get(\"user_rating\").get(\"votes\"))\n",
    "    restaurant_user_ratings_text.append(restaurant.get(\"user_rating\").get(\"rating_text\"))\n",
    "    restaurant_user_ratings.append(float(restaurant.get(\"user_rating\").get(\"aggregate_rating\")))\n",
    "    restaurant_cuisines.append(restaurant.get(\"cuisines\"))"
   ]
  },
  {
   "cell_type": "code",
   "execution_count": 242,
   "metadata": {},
   "outputs": [],
   "source": [
    "def preprocess_restaurant_data():\n",
    "    with open(\"restaurant_data.json\") as res:\n",
    "        data = json.load(res)\n",
    "\n",
    "    restaurant_ids = []\n",
    "    restaurant_names = []\n",
    "    restaurant_countrycodes = []\n",
    "    restaurant_cities = []\n",
    "    restaurant_votes = []\n",
    "    restaurant_user_ratings = []\n",
    "    restaurant_user_ratings_text = []   \n",
    "    restaurant_cuisines = []\n",
    "    restaurant_eventids = []\n",
    "    restaurant_photourls = []\n",
    "    restaurant_eventtitles = []\n",
    "    restaurant_eventstartdates = []\n",
    "    restaurant_eventenddates = []\n",
    "\n",
    "    for result in data:\n",
    "        for r in result[\"restaurants\"]:\n",
    "            restaurant = r[\"restaurant\"]\n",
    "\n",
    "            append_restaurant_details(restaurant, restaurant_ids, restaurant_names, restaurant_countrycodes, restaurant_cities, restaurant_votes, restaurant_user_ratings, restaurant_user_ratings_text, restaurant_cuisines)\n",
    "\n",
    "            event_results = restaurant.get(\"zomato_events\", \"NA\")\n",
    "\n",
    "            if event_results == \"NA\" :\n",
    "                [lst.append(\"NA\") for lst in [restaurant_eventids, restaurant_photourls, restaurant_eventstartdates, restaurant_eventenddates, restaurant_eventtitles]]\n",
    "            \n",
    "            else:\n",
    "                for i, e in enumerate(event_results):\n",
    "                    if i != 0:\n",
    "                        append_restaurant_details(restaurant, restaurant_ids, restaurant_names, restaurant_countrycodes, restaurant_cities, restaurant_votes, restaurant_user_ratings, restaurant_user_ratings_text, restaurant_cuisines)\n",
    "                    event = e.get(\"event\")\n",
    "                    restaurant_eventids.append(event.get(\"event_id\", \"NA\"))\n",
    "                    if \"photos\" in event and len(event.get(\"photos\")) != 0:\n",
    "                            restaurant_photourls.append(event.get(\"photos\")[0].get(\"photo\").get(\"url\", \"NA\"))\n",
    "                    else:\n",
    "                        restaurant_photourls.append(\"NA\")\n",
    "                    restaurant_eventstartdates.append(event.get(\"start_date\", \"NA\"))\n",
    "                    restaurant_eventenddates.append(event.get(\"end_date\", \"NA\"))\n",
    "                    restaurant_eventtitles.append(event.get(\"title\", \"NA\"))\n",
    "\n",
    "    data = {\"Restaurant Id\" : restaurant_ids, \n",
    "            \"Restaurant Name\" : restaurant_names, \n",
    "            \"Country Code\" : restaurant_countrycodes,\n",
    "            \"City\" : restaurant_cities,\n",
    "            \"User Rating Votes\" : restaurant_votes,\n",
    "            \"User Aggregate Rating\" : restaurant_user_ratings,\n",
    "            \"User Rating Text\" : restaurant_user_ratings_text,\n",
    "            \"Cuisines\" : restaurant_cuisines,\n",
    "            \"Event Id\" : restaurant_eventids,\n",
    "            \"Photo URL\" : restaurant_photourls,\n",
    "            \"Event Title\" : restaurant_eventtitles,\n",
    "            \"Event Start Date\" : restaurant_eventstartdates,\n",
    "            \"Event End Date\" : restaurant_eventenddates\n",
    "    }\n",
    "\n",
    "    df = pd.DataFrame(data)\n",
    "    df.to_csv(\"complete_restaurant_data.csv\", index=False)\n",
    "    return df\n",
    "\n",
    "\n",
    "\n"
   ]
  },
  {
   "cell_type": "code",
   "execution_count": 247,
   "metadata": {},
   "outputs": [],
   "source": [
    "def output_restaurant_data(restaurant_data_df, country_code_df):\n",
    "    merged_df = restaurant_data_df.merge(country_code_df, on = \"Country Code\", how = \"left\")\n",
    "    merged_df = merged_df.drop(columns=[\"Country Code\"])\n",
    "    merged_df = merged_df[[\"Restaurant Id\", \"Restaurant Name\", \"Country\", \"City\", \"User Rating Votes\", \"User Aggregate Rating\", \"Cuisines\"]]\n",
    "    merged_df_deduped = merged_df.drop_duplicates(keep='first') # duplicates arising combined preprocessing function, a restaurant may have multiple events, and as a result have repeated restaurant details with different event details\n",
    "    merged_df_deduped.to_csv(\"restaurant_data.csv\", index = False)"
   ]
  },
  {
   "cell_type": "code",
   "execution_count": 248,
   "metadata": {},
   "outputs": [],
   "source": [
    "def output_restaurant_events(restaurant_data_df):\n",
    "    filtered_df = restaurant_data_df[restaurant_data_df[\"Event Start Date\"] != \"NA\"]\n",
    "    filtered_df[\"converted_eventstartdt\"] = pd.to_datetime(filtered_df[\"Event Start Date\"])\n",
    "    filtered_df1 = filtered_df.loc[lambda x : (x[\"converted_eventstartdt\"].dt.year == 2019) & (x[\"converted_eventstartdt\"].dt.month == 4)]\n",
    "    filtered_df2 = filtered_df1[[\"Event Id\", \"Restaurant Id\", \"Restaurant Name\", \"Photo URL\", \"Event Title\", \"Event Start Date\", \"Event End Date\"]]\n",
    "    filtered_df2.to_csv(\"restaurant_events.csv\", index = False)"
   ]
  },
  {
   "cell_type": "markdown",
   "metadata": {},
   "source": [
    "3. \tFrom the dataset (restaurant_data.json), determine the threshold for the different rating text based on aggregate rating. Return aggregates for the following ratings only:  \n",
    "\n",
    "◦   \tExcellent  \n",
    "◦   \tVery Good  \n",
    "◦   \tGood  \n",
    "◦   \tAverage  \n",
    "◦   \tPoor  "
   ]
  },
  {
   "cell_type": "code",
   "execution_count": 253,
   "metadata": {},
   "outputs": [
    {
     "data": {
      "text/html": [
       "<div>\n",
       "<style scoped>\n",
       "    .dataframe tbody tr th:only-of-type {\n",
       "        vertical-align: middle;\n",
       "    }\n",
       "\n",
       "    .dataframe tbody tr th {\n",
       "        vertical-align: top;\n",
       "    }\n",
       "\n",
       "    .dataframe thead th {\n",
       "        text-align: right;\n",
       "    }\n",
       "</style>\n",
       "<table border=\"1\" class=\"dataframe\">\n",
       "  <thead>\n",
       "    <tr style=\"text-align: right;\">\n",
       "      <th></th>\n",
       "      <th>min_rating</th>\n",
       "      <th>max_rating</th>\n",
       "      <th>avg_rating</th>\n",
       "    </tr>\n",
       "    <tr>\n",
       "      <th>User Rating Text</th>\n",
       "      <th></th>\n",
       "      <th></th>\n",
       "      <th></th>\n",
       "    </tr>\n",
       "  </thead>\n",
       "  <tbody>\n",
       "    <tr>\n",
       "      <th>Poor</th>\n",
       "      <td>2.2</td>\n",
       "      <td>2.2</td>\n",
       "      <td>2.200000</td>\n",
       "    </tr>\n",
       "    <tr>\n",
       "      <th>Average</th>\n",
       "      <td>2.5</td>\n",
       "      <td>3.4</td>\n",
       "      <td>3.193333</td>\n",
       "    </tr>\n",
       "    <tr>\n",
       "      <th>Good</th>\n",
       "      <td>3.5</td>\n",
       "      <td>3.9</td>\n",
       "      <td>3.777083</td>\n",
       "    </tr>\n",
       "    <tr>\n",
       "      <th>Very Good</th>\n",
       "      <td>4.0</td>\n",
       "      <td>4.4</td>\n",
       "      <td>4.217371</td>\n",
       "    </tr>\n",
       "    <tr>\n",
       "      <th>Excellent</th>\n",
       "      <td>4.5</td>\n",
       "      <td>4.9</td>\n",
       "      <td>4.663514</td>\n",
       "    </tr>\n",
       "  </tbody>\n",
       "</table>\n",
       "</div>"
      ],
      "text/plain": [
       "                  min_rating  max_rating  avg_rating\n",
       "User Rating Text                                    \n",
       "Poor                     2.2         2.2    2.200000\n",
       "Average                  2.5         3.4    3.193333\n",
       "Good                     3.5         3.9    3.777083\n",
       "Very Good                4.0         4.4    4.217371\n",
       "Excellent                4.5         4.9    4.663514"
      ]
     },
     "execution_count": 253,
     "metadata": {},
     "output_type": "execute_result"
    }
   ],
   "source": [
    "restaurant_data_df = preprocess_restaurant_data()\n",
    "restaurant_data_df = restaurant_data_df.loc[lambda x : x[\"User Rating Text\"].isin([\"Excellent\", \"Very Good\", \"Good\", \"Average\", \"Poor\"])]\n",
    "thresholds = restaurant_data_df.groupby(\"User Rating Text\").agg(\n",
    "    min_rating=(\"User Aggregate Rating\", \"min\"),\n",
    "    max_rating=(\"User Aggregate Rating\", \"max\"),\n",
    "    avg_rating=(\"User Aggregate Rating\", \"mean\")\n",
    ")\n",
    "\n",
    "thresholds.sort_values(by = \"avg_rating\", inplace = True)\n",
    "\n",
    "thresholds.to_csv(\"thresholds.csv\")\n",
    "\n",
    "thresholds"
   ]
  },
  {
   "cell_type": "markdown",
   "metadata": {},
   "source": [
    "According to the aggregated results after grouping by the rating texts, an appropriate threshold for each rating text would be as follows:  \n",
    "\n",
    "Poor: 2.2 <= rating < 2.5  \n",
    "Average: 2.5 <= rating < 3.5  \n",
    "Good: 3.5 <= rating < 4.0  \n",
    "Very Good: 4.0 <= rating < 4.5  \n",
    "Excellent: Above 4.5  \n"
   ]
  },
  {
   "cell_type": "code",
   "execution_count": 252,
   "metadata": {},
   "outputs": [
    {
     "data": {
      "text/plain": [
       "pandas.core.frame.DataFrame"
      ]
     },
     "execution_count": 252,
     "metadata": {},
     "output_type": "execute_result"
    }
   ],
   "source": [
    "type(thresholds)"
   ]
  },
  {
   "cell_type": "code",
   "execution_count": 254,
   "metadata": {},
   "outputs": [
    {
     "name": "stderr",
     "output_type": "stream",
     "text": [
      "/var/folders/1f/s28t3bkj1978dtt71g0gbvqw0000gn/T/ipykernel_24925/3878880548.py:3: SettingWithCopyWarning: \n",
      "A value is trying to be set on a copy of a slice from a DataFrame.\n",
      "Try using .loc[row_indexer,col_indexer] = value instead\n",
      "\n",
      "See the caveats in the documentation: https://pandas.pydata.org/pandas-docs/stable/user_guide/indexing.html#returning-a-view-versus-a-copy\n",
      "  filtered_df[\"converted_eventstartdt\"] = pd.to_datetime(filtered_df[\"Event Start Date\"])\n"
     ]
    }
   ],
   "source": [
    "if __name__ == \"__main__\":\n",
    "    restaurant_data_df = preprocess_restaurant_data()\n",
    "    country_code_df = preprocess_country_codes()\n",
    "    output_restaurant_data(restaurant_data_df, country_code_df)\n",
    "    output_restaurant_events(restaurant_data_df)"
   ]
  },
  {
   "cell_type": "code",
   "execution_count": null,
   "metadata": {},
   "outputs": [],
   "source": []
  }
 ],
 "metadata": {
  "kernelspec": {
   "display_name": "Python 3",
   "language": "python",
   "name": "python3"
  },
  "language_info": {
   "codemirror_mode": {
    "name": "ipython",
    "version": 3
   },
   "file_extension": ".py",
   "mimetype": "text/x-python",
   "name": "python",
   "nbconvert_exporter": "python",
   "pygments_lexer": "ipython3",
   "version": "3.12.4"
  }
 },
 "nbformat": 4,
 "nbformat_minor": 2
}
