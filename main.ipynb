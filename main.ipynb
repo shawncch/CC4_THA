{
 "cells": [
  {
   "cell_type": "code",
   "execution_count": 86,
   "metadata": {},
   "outputs": [],
   "source": [
    "import pandas as pd\n",
    "import json\n",
    "import requests\n",
    "\n",
    "# Step 1: Fetch the JSON data from the URL\n",
    "url = \"https://raw.githubusercontent.com/Papagoat/brain-assessment/main/restaurant_data.json\"  # Replace with your actual JSON URL\n",
    "response = requests.get(url)\n",
    "with open('restaurant_data.json', 'w') as json_file:  \n",
    "    json.dump(response.json(), json_file, indent=4) \n"
   ]
  },
  {
   "cell_type": "code",
   "execution_count": 88,
   "metadata": {},
   "outputs": [],
   "source": [
    "def preprocess_restaurant_data():\n",
    "    with open(\"restaurant_data.json\") as res:\n",
    "        data = json.load(res)\n",
    "\n",
    "    restaurant_ids = []\n",
    "    restaurant_names = []\n",
    "    restaurant_countries = []\n",
    "    restaurant_cities = []\n",
    "    restaurant_votes = []\n",
    "    restaurant_user_ratings = []\n",
    "    restaurant_cuisines = []\n",
    "\n",
    "    for restaurant in data[0][\"restaurants\"]:\n",
    "        restaurant_ids.append(restaurant[\"restaurant\"][\"R\"][\"res_id\"])\n",
    "        restaurant_names.append(restaurant[\"restaurant\"][\"name\"])\n",
    "        restaurant_countries.append(restaurant[\"restaurant\"][\"location\"][\"country_id\"])\n",
    "        restaurant_cities.append(restaurant[\"restaurant\"][\"location\"][\"city\"])\n",
    "        restaurant_votes.append(restaurant[\"restaurant\"][\"user_rating\"][\"votes\"])\n",
    "        restaurant_user_ratings.append(restaurant[\"restaurant\"][\"user_rating\"][\"aggregate_rating\"])\n",
    "        restaurant_cuisines.append(restaurant[\"restaurant\"][\"cuisines\"])\n",
    "\n",
    "\n",
    "\n",
    "    data = {\"Restaurant Id\" : restaurant_ids, \n",
    "            \"Restaurant Name\" : restaurant_names, \n",
    "            \"Country Code\" : restaurant_countries,\n",
    "            \"City\" : restaurant_cities,\n",
    "            \"User Rating Votes\" : restaurant_votes,\n",
    "            \"User Aggregate Rating\" : restaurant_user_ratings,\n",
    "            \"Cuisines\" : restaurant_cuisines\n",
    "    }\n",
    "\n",
    "    df = pd.DataFrame(data)\n",
    "    df.to_csv(\"restaurant.csv\", index=False)\n",
    "\n",
    "\n",
    "\n"
   ]
  }
 ],
 "metadata": {
  "kernelspec": {
   "display_name": "Python 3",
   "language": "python",
   "name": "python3"
  },
  "language_info": {
   "codemirror_mode": {
    "name": "ipython",
    "version": 3
   },
   "file_extension": ".py",
   "mimetype": "text/x-python",
   "name": "python",
   "nbconvert_exporter": "python",
   "pygments_lexer": "ipython3",
   "version": "3.12.4"
  }
 },
 "nbformat": 4,
 "nbformat_minor": 2
}
